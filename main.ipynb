{
 "cells": [
  {
   "cell_type": "code",
   "execution_count": 266,
   "id": "cb8954a2",
   "metadata": {},
   "outputs": [],
   "source": [
    "# pip install openpyxl python-pptx"
   ]
  },
  {
   "cell_type": "code",
   "execution_count": 267,
   "id": "ca8836d1",
   "metadata": {},
   "outputs": [],
   "source": [
    "import openpyxl\n",
    "from pptx import Presentation\n",
    "\n",
    "def find_table(slide):\n",
    "    for shape in slide.shapes:\n",
    "        if shape.has_table:\n",
    "            return shape.table\n",
    "    return None\n"
   ]
  },
  {
   "cell_type": "code",
   "execution_count": 268,
   "id": "3af14541",
   "metadata": {},
   "outputs": [],
   "source": [
    "\n",
    "# Map Excel headers to (row, col) in the PowerPoint table\n",
    "excel_to_table_map = {\n",
    "    \"PS No\": (0, 1),\n",
    "    \"Name\": (0, 4),\n",
    "    \"DOB | Age\": (1, 1),\n",
    "    \"Designation\": (1, 4),\n",
    "    \"Site | Office\": (2, 1),\n",
    "    \"IC | Location\": (2, 4),\n",
    "    \"DOJ\": (3, 1),\n",
    "    \"IS Name & Grade\": (3, 4),\n",
    "    \"Grade\": (4, 1),\n",
    "    \"Last Promotion Date\": (4, 4),\n",
    "    \"DOR\": (5, 1),\n",
    "    \"FAIR 23|24|25\": (5, 3), # This is not in the excel file, but in the PPT\n",
    "    \"CP Rating 2025\": (5, 6),\n",
    "    \"Total Yrs. of Exp| L&T Exp\": (6, 1),\n",
    "    \"DC Score| Year\": (6, 4),\n",
    "    \"Qualification | Year\": (7, 1),\n",
    "    \"Current Role\": (9, 0),  # This is not in the excel file, but in the PPT\n",
    "    \"Role Envisaged in 2025-26 (in Terms of Job Rotation/Job Enlargement)\": (9, 3), # This is not in the excel file, but in the PPT\n",
    "}"
   ]
  },
  {
   "cell_type": "code",
   "execution_count": 269,
   "id": "e54879b9",
   "metadata": {},
   "outputs": [
    {
     "name": "stdout",
     "output_type": "stream",
     "text": [
      "Excel Headers: ['#', 'PS No', 'Name', 'DOB', 'Age', 'DOB | Age', 'Designation', 'Site | Office', 'IC', 'Location', 'IC | Location', 'DOJ', 'DOH', 'GET-DET', 'IS Name', 'IS Grade', 'IS Name & Grade', 'Grade', 'Last Promotion Date', 'DOR', 'Prev. Rating\\n(22/23/24)', 'Rating 2025', 'CP Rating 2025', 'Total Years of Experience', 'L&T Experience', 'Total Yrs. of Exp| L&T Exp', 'DC Score| Year', 'Qualification | Year', 'Role_Inputs']\n"
     ]
    }
   ],
   "source": [
    "# Load Excel with data_only=True to get calculated values\n",
    "wb = openpyxl.load_workbook('Excel-Test.xlsx', data_only=True)\n",
    "ws = wb.active\n",
    "excel_headers = [cell.value for cell in next(ws.iter_rows(min_row=1, max_row=1))]\n",
    "print(\"Excel Headers:\", excel_headers)"
   ]
  },
  {
   "cell_type": "code",
   "execution_count": 270,
   "id": "4e5099c0",
   "metadata": {},
   "outputs": [],
   "source": [
    "# Function to print table content\n",
    "def print_table_content(table):\n",
    "    for row_idx, row in enumerate(table.rows):\n",
    "        for col_idx, cell in enumerate(row.cells):\n",
    "            print(f\"Row {row_idx}, Col {col_idx}: {cell.text}\")\n",
    "\n",
    "# Usage\n"
   ]
  },
  {
   "cell_type": "code",
   "execution_count": 271,
   "id": "a0ae4033",
   "metadata": {},
   "outputs": [
    {
     "name": "stdout",
     "output_type": "stream",
     "text": [
      "Row 0, Col 0: PS No\n",
      "Row 0, Col 1: \n",
      "Row 0, Col 2: Name\n",
      "Row 0, Col 3: \n",
      "Row 0, Col 4: \n",
      "Row 0, Col 5: PHOTO\n",
      "\n",
      "Row 0, Col 6: \n",
      "Row 1, Col 0: DOB | Age\n",
      "Row 1, Col 1: \n",
      "Row 1, Col 2: Designation\n",
      "Row 1, Col 3: \n",
      "Row 1, Col 4: \n",
      "Row 1, Col 5: \n",
      "Row 1, Col 6: \n",
      "Row 2, Col 0: Site | Office \n",
      "Row 2, Col 1: \n",
      "Row 2, Col 2: IC | Location\n",
      "Row 2, Col 3: \n",
      "Row 2, Col 4: \n",
      "Row 2, Col 5: \n",
      "Row 2, Col 6: \n",
      "Row 3, Col 0: DOJ\n",
      "Row 3, Col 1: \n",
      "Row 3, Col 2: IS Name & Grade\n",
      "Row 3, Col 3: \n",
      "Row 3, Col 4: \n",
      "Row 3, Col 5: \n",
      "Row 3, Col 6: \n",
      "Row 4, Col 0: Grade\n",
      "Row 4, Col 1: \n",
      "Row 4, Col 2: Last Promotion Date\n",
      "Row 4, Col 3: \n",
      "Row 4, Col 4: \n",
      "Row 4, Col 5: \n",
      "Row 4, Col 6: \n",
      "Row 5, Col 0: DOR\n",
      "Row 5, Col 1: \n",
      "Row 5, Col 2: FAIR 23|24|25\n",
      "Row 5, Col 3: \n",
      "Row 5, Col 4: \n",
      "Row 5, Col 5: CP Rating 2025\n",
      "Row 5, Col 6: \n",
      "Row 6, Col 0: Total Yrs. of Exp| L&T Exp\n",
      "Row 6, Col 1: \n",
      "Row 6, Col 2: DC Score| Year\n",
      "Row 6, Col 3: \n",
      "Row 6, Col 4:  \n",
      "Row 6, Col 5: \n",
      "Row 6, Col 6: \n",
      "Row 7, Col 0: Qualification | Year\n",
      "Row 7, Col 1:  \n",
      "Row 7, Col 2: \n",
      "Row 7, Col 3: \n",
      "Row 7, Col 4: \n",
      "Row 7, Col 5: \n",
      "Row 7, Col 6: \n",
      "Row 8, Col 0: Current Role\n",
      "Row 8, Col 1: \n",
      "Row 8, Col 2: \n",
      "Row 8, Col 3: Role Envisaged in 2025-26 (in Terms of Job Rotation/Job Enlargement)\n",
      "Row 8, Col 4: \n",
      "Row 8, Col 5: \n",
      "Row 8, Col 6: \n",
      "Row 9, Col 0: \n",
      "\n",
      "\n",
      "Row 9, Col 1: \n",
      "Row 9, Col 2: \n",
      "Row 9, Col 3: \n",
      "Row 9, Col 4: \n",
      "Row 9, Col 5: \n",
      "Row 9, Col 6: \n"
     ]
    }
   ],
   "source": [
    "# Load PowerPoint template\n",
    "prs = Presentation('Role.pptx')\n",
    "template_slide = prs.slides[0]\n",
    "table = find_table(template_slide)\n",
    "print_table_content(table)"
   ]
  },
  {
   "cell_type": "code",
   "execution_count": 272,
   "id": "881e4873",
   "metadata": {},
   "outputs": [],
   "source": [
    "def print_slide_layout_content(slide_layout):\n",
    "    print(f\"Slide Layout Name: {slide_layout.name}\")\n",
    "    print(\"Placeholders:\")\n",
    "    for placeholder in slide_layout.placeholders:\n",
    "        print(f\"  Placeholder idx: {placeholder.placeholder_format.idx}, type: {placeholder.placeholder_format.type}\")\n",
    "    print(\"Shapes:\")\n",
    "    for shape in slide_layout.shapes:\n",
    "        print(f\"  Shape name: {shape.name}, type: {shape.shape_type}\")"
   ]
  },
  {
   "cell_type": "code",
   "execution_count": 273,
   "id": "9a4c57be",
   "metadata": {},
   "outputs": [],
   "source": [
    "import copy\n",
    "from copy import deepcopy\n",
    "def copy_slide(prs, slide):\n",
    "    # Use the same layout as the source slide\n",
    "    slide_layout = slide.slide_layout\n",
    "    new_slide = prs.slides.add_slide(slide_layout)\n",
    "    for shape in slide.shapes:\n",
    "        el = copy.deepcopy(shape.element)\n",
    "        new_slide.shapes._spTree.insert_element_before(el, 'p:extLst')\n",
    "    return new_slide"
   ]
  },
  {
   "cell_type": "code",
   "execution_count": 274,
   "id": "9909033c",
   "metadata": {},
   "outputs": [],
   "source": [
    "from datetime import datetime\n",
    "\n",
    "def format_date(date_str):\n",
    "    date_str = str(date_str).strip()\n",
    "    for fmt in (\"%Y-%m-%d %H:%M:%S\", \"%Y-%m-%d\"):\n",
    "        try:\n",
    "            dt = datetime.strptime(date_str, fmt)\n",
    "            return dt.strftime(\"%d-%m-%y\")\n",
    "        except Exception:\n",
    "            continue\n",
    "    print(f\"Error formatting date: {date_str}\")\n",
    "    return date_str "
   ]
  },
  {
   "cell_type": "code",
   "execution_count": 275,
   "id": "5e1e112f",
   "metadata": {},
   "outputs": [],
   "source": [
    "\n",
    "\n",
    "\n",
    "\n",
    "cn=0\n",
    "if table is None:\n",
    "    raise Exception(\"No table found in the template slide.\")\n",
    "\n",
    "# Prepare a new presentation for output\n",
    "final_prs = Presentation()\n",
    "final_prs.slide_width = prs.slide_width\n",
    "final_prs.slide_height = prs.slide_height\n",
    "\n",
    "for row in ws.iter_rows(min_row=2, values_only=True):\n",
    "    prs_temp = Presentation('Role.pptx')\n",
    "    slide = prs_temp.slides[0]\n",
    "    table = find_table(slide)\n",
    "    # Fill table by mapping\n",
    "    for idx, value in enumerate(row):\n",
    "        header = excel_headers[idx]\n",
    "        if header in [\"DOJ\", \"DOR\"]:\n",
    "            # print(\"Ajit\")\n",
    "            value = format_date(value)\n",
    "            # print(value)\n",
    "\n",
    "        if header in excel_to_table_map:\n",
    "            r, c = excel_to_table_map[header]\n",
    "            table.cell(r, c).text = str(value) if value is not None else \"\"\n",
    "            #print(f\"Set cell ({r}, {c}) to '{value}' for header '{header}'\")\n",
    "    # Copy filled slide to final presentation\n",
    "    # Usage:\n",
    "    blank_slide_layout = final_prs.slide_layouts[6]\n",
    "    new_slide = final_prs.slides.add_slide(blank_slide_layout)\n",
    "\n",
    "    for shape in slide.shapes:\n",
    "        if shape.shape_type == 19:  # 19 is MSO_SHAPE_TYPE.TABLE\n",
    "            el = deepcopy(shape.element)\n",
    "            new_slide.shapes._spTree.insert_element_before(el, 'p:extLst')\n",
    "    # Optionally, handle other shapes (like images/text) as needed\n",
    "    # cn += 1\n",
    "    # if cn ==2:\n",
    "    #     break\n",
    "\n",
    "final_prs.save('Filled_Role.pptx')"
   ]
  },
  {
   "cell_type": "code",
   "execution_count": null,
   "id": "770f60e7",
   "metadata": {},
   "outputs": [],
   "source": []
  },
  {
   "cell_type": "code",
   "execution_count": null,
   "id": "f36b4ac8",
   "metadata": {},
   "outputs": [],
   "source": []
  },
  {
   "cell_type": "code",
   "execution_count": null,
   "id": "131c3313",
   "metadata": {},
   "outputs": [],
   "source": []
  },
  {
   "cell_type": "code",
   "execution_count": null,
   "id": "5791f8c3",
   "metadata": {},
   "outputs": [],
   "source": []
  },
  {
   "cell_type": "code",
   "execution_count": null,
   "id": "b8b4a1d6",
   "metadata": {},
   "outputs": [],
   "source": []
  },
  {
   "cell_type": "code",
   "execution_count": null,
   "id": "71ecf4e0",
   "metadata": {},
   "outputs": [],
   "source": []
  }
 ],
 "metadata": {
  "kernelspec": {
   "display_name": "Python 3",
   "language": "python",
   "name": "python3"
  },
  "language_info": {
   "codemirror_mode": {
    "name": "ipython",
    "version": 3
   },
   "file_extension": ".py",
   "mimetype": "text/x-python",
   "name": "python",
   "nbconvert_exporter": "python",
   "pygments_lexer": "ipython3",
   "version": "3.10.12"
  }
 },
 "nbformat": 4,
 "nbformat_minor": 5
}
