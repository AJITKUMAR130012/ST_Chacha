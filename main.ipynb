{
 "cells": [
  {
   "cell_type": "code",
   "execution_count": 12,
   "id": "cb8954a2",
   "metadata": {},
   "outputs": [],
   "source": [
    "# pip install openpyxl python-pptx"
   ]
  },
  {
   "cell_type": "code",
   "execution_count": null,
   "id": "5e1e112f",
   "metadata": {},
   "outputs": [],
   "source": [
    "import openpyxl\n",
    "from pptx import Presentation\n",
    "\n",
    "def find_table(slide):\n",
    "    for shape in slide.shapes:\n",
    "        if shape.has_table:\n",
    "            return shape.table\n",
    "    return None\n",
    "\n",
    "# Map Excel headers to (row, col) in the PowerPoint table\n",
    "excel_to_table_map = {\n",
    "    \"PS No\": (0, 1),\n",
    "    \"Name\": (0, 3),\n",
    "    \"DOB | Age\": (1, 1),\n",
    "    \"Designation\": (1, 2),\n",
    "    \"Site / Office\": (2, 1),\n",
    "    \"IC | Location\": (2, 2),\n",
    "    \"DOJ\": (3, 1),\n",
    "    \"IS Name & Grade\": (3, 2),\n",
    "    \"Grade\": (4, 1),\n",
    "    \"Last Promotion Date\": (4, 2),\n",
    "    \"DOR\": (5, 1),\n",
    "    \"FAIR 23|24|25\": (5, 2),\n",
    "    \"CP Rating 2025\": (5, 3),\n",
    "    \"Total Yrs. of Exp| L&T Exp\": (6, 1),\n",
    "    \"DC Score| Year\": (6, 2),\n",
    "    \"Qualification | Year\": (7, 1),\n",
    "    \"Current Role\": (9, 0),\n",
    "    \"Role Envisaged in 2025-26 (in Terms of Job Rotation/Job Enlargement)\": (9, 1),\n",
    "}\n",
    "\n",
    "# Load Excel with data_only=True to get calculated values\n",
    "wb = openpyxl.load_workbook('Excel-Test.xlsx', data_only=True)\n",
    "ws = wb.active\n",
    "excel_headers = [cell.value for cell in next(ws.iter_rows(min_row=1, max_row=1))]\n",
    "\n",
    "# Load PowerPoint template\n",
    "prs = Presentation('Role.pptx')\n",
    "template_slide = prs.slides[0]\n",
    "table = find_table(template_slide)\n",
    "if table is None:\n",
    "    raise Exception(\"No table found in the template slide.\")\n",
    "\n",
    "# Prepare a new presentation for output\n",
    "final_prs = Presentation()\n",
    "final_prs.slide_width = prs.slide_width\n",
    "final_prs.slide_height = prs.slide_height\n",
    "\n",
    "for row in ws.iter_rows(min_row=2, values_only=True):\n",
    "    prs_temp = Presentation('Role.pptx')\n",
    "    slide = prs_temp.slides[0]\n",
    "    table = find_table(slide)\n",
    "    # Fill table by mapping\n",
    "    for idx, value in enumerate(row):\n",
    "        header = excel_headers[idx]\n",
    "        if header in excel_to_table_map:\n",
    "            r, c = excel_to_table_map[header]\n",
    "            table.cell(r, c).text = str(value) if value is not None else \"\"\n",
    "    # Copy filled slide to final presentation\n",
    "    blank_slide_layout = final_prs.slide_layouts[6]\n",
    "    new_slide = final_prs.slides.add_slide(blank_slide_layout)\n",
    "    for shape in slide.shapes:\n",
    "        el = shape.element\n",
    "        new_slide.shapes._spTree.insert_element_before(el, 'p:extLst')\n",
    "\n",
    "final_prs.save('Filled_Role.pptx')"
   ]
  },
  {
   "cell_type": "code",
   "execution_count": null,
   "id": "f36b4ac8",
   "metadata": {},
   "outputs": [],
   "source": []
  },
  {
   "cell_type": "code",
   "execution_count": null,
   "id": "131c3313",
   "metadata": {},
   "outputs": [],
   "source": []
  },
  {
   "cell_type": "code",
   "execution_count": null,
   "id": "5791f8c3",
   "metadata": {},
   "outputs": [],
   "source": []
  },
  {
   "cell_type": "code",
   "execution_count": null,
   "id": "b8b4a1d6",
   "metadata": {},
   "outputs": [],
   "source": []
  },
  {
   "cell_type": "code",
   "execution_count": null,
   "id": "71ecf4e0",
   "metadata": {},
   "outputs": [],
   "source": []
  }
 ],
 "metadata": {
  "kernelspec": {
   "display_name": "Python 3",
   "language": "python",
   "name": "python3"
  },
  "language_info": {
   "codemirror_mode": {
    "name": "ipython",
    "version": 3
   },
   "file_extension": ".py",
   "mimetype": "text/x-python",
   "name": "python",
   "nbconvert_exporter": "python",
   "pygments_lexer": "ipython3",
   "version": "3.10.12"
  }
 },
 "nbformat": 4,
 "nbformat_minor": 5
}
